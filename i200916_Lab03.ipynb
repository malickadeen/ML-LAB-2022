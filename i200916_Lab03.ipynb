{
 "cells": [
  {
   "cell_type": "markdown",
   "id": "61b4bc49",
   "metadata": {},
   "source": [
    "# TASK # 1"
   ]
  },
  {
   "cell_type": "code",
   "execution_count": 2,
   "id": "d0be09fe",
   "metadata": {},
   "outputs": [],
   "source": [
    "import numpy as np\n",
    "import pandas as pd\n",
    "import matplotlib.pyplot as plt\n",
    "from numpy.linalg import eig"
   ]
  },
  {
   "cell_type": "code",
   "execution_count": 6,
   "id": "65f2ea82",
   "metadata": {},
   "outputs": [],
   "source": [
    "vec=np.random.randint(2,10,(4,))"
   ]
  },
  {
   "cell_type": "code",
   "execution_count": 7,
   "id": "e0281e4a",
   "metadata": {},
   "outputs": [],
   "source": [
    "# vec=list(vec)"
   ]
  },
  {
   "cell_type": "code",
   "execution_count": 8,
   "id": "7bb552cc",
   "metadata": {},
   "outputs": [
    {
     "data": {
      "text/plain": [
       "array([8, 3, 3, 6])"
      ]
     },
     "execution_count": 8,
     "metadata": {},
     "output_type": "execute_result"
    }
   ],
   "source": [
    "vec"
   ]
  },
  {
   "cell_type": "markdown",
   "id": "2bedce39",
   "metadata": {},
   "source": [
    "# TASK # 2 "
   ]
  },
  {
   "cell_type": "code",
   "execution_count": 9,
   "id": "acb41453",
   "metadata": {},
   "outputs": [
    {
     "data": {
      "text/plain": [
       "-9.333333333333334"
      ]
     },
     "execution_count": 9,
     "metadata": {},
     "output_type": "execute_result"
    }
   ],
   "source": [
    "b4=-(vec[0]*4 + vec[1]*4 + vec[2]*4)/vec[3]\n",
    "b4"
   ]
  },
  {
   "cell_type": "code",
   "execution_count": 10,
   "id": "40117150",
   "metadata": {},
   "outputs": [
    {
     "data": {
      "text/plain": [
       "array([ 4.        ,  4.        ,  4.        , -9.33333333])"
      ]
     },
     "execution_count": 10,
     "metadata": {},
     "output_type": "execute_result"
    }
   ],
   "source": [
    "l1=[4,4,4,b4]\n",
    "vec2=np.array(l1)\n",
    "vec2"
   ]
  },
  {
   "cell_type": "code",
   "execution_count": 11,
   "id": "735fd775",
   "metadata": {},
   "outputs": [
    {
     "data": {
      "text/plain": [
       "0.0"
      ]
     },
     "execution_count": 11,
     "metadata": {},
     "output_type": "execute_result"
    }
   ],
   "source": [
    "res=np.dot(vec,vec2)\n",
    "res"
   ]
  },
  {
   "cell_type": "markdown",
   "id": "c5731b77",
   "metadata": {},
   "source": [
    "# TASK # 3"
   ]
  },
  {
   "cell_type": "code",
   "execution_count": 12,
   "id": "20d3e6fc",
   "metadata": {},
   "outputs": [],
   "source": [
    "vp = (np.dot(vec, vec2) / np.dot(vec2, vec2)) * vec2"
   ]
  },
  {
   "cell_type": "code",
   "execution_count": 13,
   "id": "b89e4cc8",
   "metadata": {},
   "outputs": [
    {
     "data": {
      "text/plain": [
       "array([ 0.,  0.,  0., -0.])"
      ]
     },
     "execution_count": 13,
     "metadata": {},
     "output_type": "execute_result"
    }
   ],
   "source": [
    "vp"
   ]
  },
  {
   "cell_type": "code",
   "execution_count": 14,
   "id": "700d928c",
   "metadata": {},
   "outputs": [
    {
     "data": {
      "text/plain": [
       "array([0., 0., 0., 0.])"
      ]
     },
     "execution_count": 14,
     "metadata": {},
     "output_type": "execute_result"
    }
   ],
   "source": [
    "vp = (np.dot(vec2, vec) / np.dot(vec, vec)) * vec\n",
    "vp"
   ]
  },
  {
   "cell_type": "markdown",
   "id": "29872f53",
   "metadata": {},
   "source": [
    "# Task4 "
   ]
  },
  {
   "cell_type": "code",
   "execution_count": 24,
   "id": "bca719c8",
   "metadata": {},
   "outputs": [],
   "source": [
    "vect1=np.random.randint(2,10,(2,))\n",
    "vect2=np.random.randint(2,10,(2,))"
   ]
  },
  {
   "cell_type": "code",
   "execution_count": 30,
   "id": "8c5f6406",
   "metadata": {},
   "outputs": [
    {
     "data": {
      "image/png": "[encoded data removed]",
      "text/plain": [
       "<Figure size 432x288 with 1 Axes>"
      ]
     },
     "metadata": {
      "needs_background": "light"
     },
     "output_type": "display_data"
    },
    {
     "name": "stdout",
     "output_type": "stream",
     "text": [
      "[8 9]\n",
      "[7 4]\n"
     ]
    }
   ],
   "source": [
    "plt.quiver(vect1,vect2, angles='xy', scale_units='xy', scale=1)\n",
    "plt.xlim(-10, 10)\n",
    "plt.ylim(-10, 10)\n",
    "plt.show()\n",
    "print(vect1)\n",
    "print(vect2)"
   ]
  },
  {
   "cell_type": "markdown",
   "id": "cf0ed3c9",
   "metadata": {},
   "source": [
    "# Projection"
   ]
  },
  {
   "cell_type": "code",
   "execution_count": 32,
   "id": "37181d1d",
   "metadata": {},
   "outputs": [
    {
     "data": {
      "text/plain": [
       "array([0., 0., 0., 0.])"
      ]
     },
     "execution_count": 32,
     "metadata": {},
     "output_type": "execute_result"
    }
   ],
   "source": [
    "vec1_norm = np.sqrt(sum(vec**2))  \n",
    "proj_of_vec2_on_vec = (np.dot(vec2, vec)/vec1_norm**2)*vec\n",
    "proj_of_vec2_on_vec"
   ]
  },
  {
   "cell_type": "code",
   "execution_count": 33,
   "id": "053ecb11",
   "metadata": {},
   "outputs": [
    {
     "data": {
      "text/plain": [
       "array([ 0.,  0.,  0., -0.])"
      ]
     },
     "execution_count": 33,
     "metadata": {},
     "output_type": "execute_result"
    }
   ],
   "source": [
    "vec2_norm = np.sqrt(sum(vec2**2))  \n",
    "proj_of_vec_on_vec2 = (np.dot(vec, vec2)/vec2_norm**2)*vec2\n",
    "proj_of_vec_on_vec2"
   ]
  },
  {
   "cell_type": "markdown",
   "id": "9d842f62",
   "metadata": {},
   "source": [
    "# Task5"
   ]
  },
  {
   "cell_type": "code",
   "execution_count": 34,
   "id": "463c7330",
   "metadata": {},
   "outputs": [],
   "source": [
    "vect3=np.random.randint(2,10,(4,))\n",
    "vect4=np.random.randint(2,10,(4,))"
   ]
  },
  {
   "cell_type": "code",
   "execution_count": 38,
   "id": "9f0b0e60",
   "metadata": {},
   "outputs": [
    {
     "data": {
      "text/plain": [
       "array([4.23255814, 4.23255814, 5.44186047, 3.62790698])"
      ]
     },
     "execution_count": 38,
     "metadata": {},
     "output_type": "execute_result"
    }
   ],
   "source": [
    "vect3_norm = np.sqrt(sum(vect3**2))  \n",
    "proj_of_vec4_on_vect3 = (np.dot(vect4, vect3)/vect3_norm**2)*vect3\n",
    "proj_of_vec4_on_vect3"
   ]
  },
  {
   "cell_type": "code",
   "execution_count": 40,
   "id": "162070a3",
   "metadata": {},
   "outputs": [
    {
     "data": {
      "text/plain": [
       "array([10.4,  2.6,  5.2,  5.2])"
      ]
     },
     "execution_count": 40,
     "metadata": {},
     "output_type": "execute_result"
    }
   ],
   "source": [
    "vect4_norm = np.sqrt(sum(vect4**2))  \n",
    "proj_of_vec3_on_vect4 = (np.dot(vect3, vect4)/vect4_norm**2)*vect4\n",
    "proj_of_vec3_on_vect4"
   ]
  },
  {
   "cell_type": "code",
   "execution_count": 51,
   "id": "585e37f5",
   "metadata": {},
   "outputs": [
    {
     "data": {
      "image/png": "[encoded data removed]",
      "text/plain": [
       "<Figure size 432x288 with 1 Axes>"
      ]
     },
     "metadata": {
      "needs_background": "light"
     },
     "output_type": "display_data"
    }
   ],
   "source": [
    "plt.quiver(vect3, vect4, proj_of_vec3_on_vect4,proj_of_vec4_on_vect3, color=['blue','green','yellow','red'], scale=15)\n",
    "plt.ylim(0,15)\n",
    "plt.xlim(0,15)\n",
    "plt.show()"
   ]
  },
  {
   "cell_type": "markdown",
   "id": "897af2ee",
   "metadata": {},
   "source": [
    "# Task 6"
   ]
  },
  {
   "cell_type": "code",
   "execution_count": 11,
   "id": "ca1fe930",
   "metadata": {},
   "outputs": [
    {
     "data": {
      "text/html": [
       "<div>\n",
       "<style scoped>\n",
       "    .dataframe tbody tr th:only-of-type {\n",
       "        vertical-align: middle;\n",
       "    }\n",
       "\n",
       "    .dataframe tbody tr th {\n",
       "        vertical-align: top;\n",
       "    }\n",
       "\n",
       "    .dataframe thead th {\n",
       "        text-align: right;\n",
       "    }\n",
       "</style>\n",
       "<table border=\"1\" class=\"dataframe\">\n",
       "  <thead>\n",
       "    <tr style=\"text-align: right;\">\n",
       "      <th></th>\n",
       "      <th>0</th>\n",
       "      <th>1</th>\n",
       "      <th>2</th>\n",
       "      <th>3</th>\n",
       "    </tr>\n",
       "  </thead>\n",
       "  <tbody>\n",
       "    <tr>\n",
       "      <th>0</th>\n",
       "      <td>5.1</td>\n",
       "      <td>3.5</td>\n",
       "      <td>1.4</td>\n",
       "      <td>0.2</td>\n",
       "    </tr>\n",
       "    <tr>\n",
       "      <th>1</th>\n",
       "      <td>4.9</td>\n",
       "      <td>3.0</td>\n",
       "      <td>1.4</td>\n",
       "      <td>0.2</td>\n",
       "    </tr>\n",
       "    <tr>\n",
       "      <th>2</th>\n",
       "      <td>4.7</td>\n",
       "      <td>3.2</td>\n",
       "      <td>1.3</td>\n",
       "      <td>0.2</td>\n",
       "    </tr>\n",
       "    <tr>\n",
       "      <th>3</th>\n",
       "      <td>4.6</td>\n",
       "      <td>3.1</td>\n",
       "      <td>1.5</td>\n",
       "      <td>0.2</td>\n",
       "    </tr>\n",
       "    <tr>\n",
       "      <th>4</th>\n",
       "      <td>5.0</td>\n",
       "      <td>3.6</td>\n",
       "      <td>1.4</td>\n",
       "      <td>0.2</td>\n",
       "    </tr>\n",
       "    <tr>\n",
       "      <th>...</th>\n",
       "      <td>...</td>\n",
       "      <td>...</td>\n",
       "      <td>...</td>\n",
       "      <td>...</td>\n",
       "    </tr>\n",
       "    <tr>\n",
       "      <th>145</th>\n",
       "      <td>6.7</td>\n",
       "      <td>3.0</td>\n",
       "      <td>5.2</td>\n",
       "      <td>2.3</td>\n",
       "    </tr>\n",
       "    <tr>\n",
       "      <th>146</th>\n",
       "      <td>6.3</td>\n",
       "      <td>2.5</td>\n",
       "      <td>5.0</td>\n",
       "      <td>1.9</td>\n",
       "    </tr>\n",
       "    <tr>\n",
       "      <th>147</th>\n",
       "      <td>6.5</td>\n",
       "      <td>3.0</td>\n",
       "      <td>5.2</td>\n",
       "      <td>2.0</td>\n",
       "    </tr>\n",
       "    <tr>\n",
       "      <th>148</th>\n",
       "      <td>6.2</td>\n",
       "      <td>3.4</td>\n",
       "      <td>5.4</td>\n",
       "      <td>2.3</td>\n",
       "    </tr>\n",
       "    <tr>\n",
       "      <th>149</th>\n",
       "      <td>5.9</td>\n",
       "      <td>3.0</td>\n",
       "      <td>5.1</td>\n",
       "      <td>1.8</td>\n",
       "    </tr>\n",
       "  </tbody>\n",
       "</table>\n",
       "<p>150 rows × 4 columns</p>\n",
       "</div>"
      ],
      "text/plain": [
       "       0    1    2    3\n",
       "0    5.1  3.5  1.4  0.2\n",
       "1    4.9  3.0  1.4  0.2\n",
       "2    4.7  3.2  1.3  0.2\n",
       "3    4.6  3.1  1.5  0.2\n",
       "4    5.0  3.6  1.4  0.2\n",
       "..   ...  ...  ...  ...\n",
       "145  6.7  3.0  5.2  2.3\n",
       "146  6.3  2.5  5.0  1.9\n",
       "147  6.5  3.0  5.2  2.0\n",
       "148  6.2  3.4  5.4  2.3\n",
       "149  5.9  3.0  5.1  1.8\n",
       "\n",
       "[150 rows x 4 columns]"
      ]
     },
     "execution_count": 11,
     "metadata": {},
     "output_type": "execute_result"
    }
   ],
   "source": [
    "from sklearn import datasets\n",
    "iris = datasets.load_iris()\n",
    "df2=pd.DataFrame(iris.data)\n",
    "df2"
   ]
  },
  {
   "cell_type": "code",
   "execution_count": 12,
   "id": "a71477f0",
   "metadata": {},
   "outputs": [
    {
     "data": {
      "text/html": [
       "<div>\n",
       "<style scoped>\n",
       "    .dataframe tbody tr th:only-of-type {\n",
       "        vertical-align: middle;\n",
       "    }\n",
       "\n",
       "    .dataframe tbody tr th {\n",
       "        vertical-align: top;\n",
       "    }\n",
       "\n",
       "    .dataframe thead th {\n",
       "        text-align: right;\n",
       "    }\n",
       "</style>\n",
       "<table border=\"1\" class=\"dataframe\">\n",
       "  <thead>\n",
       "    <tr style=\"text-align: right;\">\n",
       "      <th></th>\n",
       "      <th>0</th>\n",
       "      <th>1</th>\n",
       "      <th>2</th>\n",
       "      <th>3</th>\n",
       "    </tr>\n",
       "  </thead>\n",
       "  <tbody>\n",
       "    <tr>\n",
       "      <th>0</th>\n",
       "      <td>-0.743333</td>\n",
       "      <td>0.442667</td>\n",
       "      <td>-2.358</td>\n",
       "      <td>-0.999333</td>\n",
       "    </tr>\n",
       "    <tr>\n",
       "      <th>1</th>\n",
       "      <td>-0.943333</td>\n",
       "      <td>-0.057333</td>\n",
       "      <td>-2.358</td>\n",
       "      <td>-0.999333</td>\n",
       "    </tr>\n",
       "    <tr>\n",
       "      <th>2</th>\n",
       "      <td>-1.143333</td>\n",
       "      <td>0.142667</td>\n",
       "      <td>-2.458</td>\n",
       "      <td>-0.999333</td>\n",
       "    </tr>\n",
       "    <tr>\n",
       "      <th>3</th>\n",
       "      <td>-1.243333</td>\n",
       "      <td>0.042667</td>\n",
       "      <td>-2.258</td>\n",
       "      <td>-0.999333</td>\n",
       "    </tr>\n",
       "    <tr>\n",
       "      <th>4</th>\n",
       "      <td>-0.843333</td>\n",
       "      <td>0.542667</td>\n",
       "      <td>-2.358</td>\n",
       "      <td>-0.999333</td>\n",
       "    </tr>\n",
       "    <tr>\n",
       "      <th>...</th>\n",
       "      <td>...</td>\n",
       "      <td>...</td>\n",
       "      <td>...</td>\n",
       "      <td>...</td>\n",
       "    </tr>\n",
       "    <tr>\n",
       "      <th>145</th>\n",
       "      <td>0.856667</td>\n",
       "      <td>-0.057333</td>\n",
       "      <td>1.442</td>\n",
       "      <td>1.100667</td>\n",
       "    </tr>\n",
       "    <tr>\n",
       "      <th>146</th>\n",
       "      <td>0.456667</td>\n",
       "      <td>-0.557333</td>\n",
       "      <td>1.242</td>\n",
       "      <td>0.700667</td>\n",
       "    </tr>\n",
       "    <tr>\n",
       "      <th>147</th>\n",
       "      <td>0.656667</td>\n",
       "      <td>-0.057333</td>\n",
       "      <td>1.442</td>\n",
       "      <td>0.800667</td>\n",
       "    </tr>\n",
       "    <tr>\n",
       "      <th>148</th>\n",
       "      <td>0.356667</td>\n",
       "      <td>0.342667</td>\n",
       "      <td>1.642</td>\n",
       "      <td>1.100667</td>\n",
       "    </tr>\n",
       "    <tr>\n",
       "      <th>149</th>\n",
       "      <td>0.056667</td>\n",
       "      <td>-0.057333</td>\n",
       "      <td>1.342</td>\n",
       "      <td>0.600667</td>\n",
       "    </tr>\n",
       "  </tbody>\n",
       "</table>\n",
       "<p>150 rows × 4 columns</p>\n",
       "</div>"
      ],
      "text/plain": [
       "            0         1      2         3\n",
       "0   -0.743333  0.442667 -2.358 -0.999333\n",
       "1   -0.943333 -0.057333 -2.358 -0.999333\n",
       "2   -1.143333  0.142667 -2.458 -0.999333\n",
       "3   -1.243333  0.042667 -2.258 -0.999333\n",
       "4   -0.843333  0.542667 -2.358 -0.999333\n",
       "..        ...       ...    ...       ...\n",
       "145  0.856667 -0.057333  1.442  1.100667\n",
       "146  0.456667 -0.557333  1.242  0.700667\n",
       "147  0.656667 -0.057333  1.442  0.800667\n",
       "148  0.356667  0.342667  1.642  1.100667\n",
       "149  0.056667 -0.057333  1.342  0.600667\n",
       "\n",
       "[150 rows x 4 columns]"
      ]
     },
     "execution_count": 12,
     "metadata": {},
     "output_type": "execute_result"
    }
   ],
   "source": [
    "cv2 = df2 - df2.mean()\n",
    "cv2"
   ]
  },
  {
   "cell_type": "code",
   "execution_count": 13,
   "id": "93f0ce5a",
   "metadata": {},
   "outputs": [
    {
     "name": "stderr",
     "output_type": "stream",
     "text": [
      "C:\\Users\\DELL\\AppData\\Local\\Temp\\ipykernel_11280\\649704333.py:1: ParserWarning: Falling back to the 'python' engine because the 'c' engine does not support regex separators (separators > 1 char and different from '\\s+' are interpreted as regex); you can avoid this warning by specifying engine='python'.\n",
      "  df=pd.read_csv('ECG200_TRAIN.csv', delimiter=\"  \")\n"
     ]
    }
   ],
   "source": [
    "df=pd.read_csv('ECG200_TRAIN.csv', delimiter=\"  \")"
   ]
  },
  {
   "cell_type": "code",
   "execution_count": 15,
   "id": "bcbf8841",
   "metadata": {},
   "outputs": [
    {
     "data": {
      "text/html": [
       "<div>\n",
       "<style scoped>\n",
       "    .dataframe tbody tr th:only-of-type {\n",
       "        vertical-align: middle;\n",
       "    }\n",
       "\n",
       "    .dataframe tbody tr th {\n",
       "        vertical-align: top;\n",
       "    }\n",
       "\n",
       "    .dataframe thead th {\n",
       "        text-align: right;\n",
       "    }\n",
       "</style>\n",
       "<table border=\"1\" class=\"dataframe\">\n",
       "  <thead>\n",
       "    <tr style=\"text-align: right;\">\n",
       "      <th></th>\n",
       "      <th>-1.0000000e+00</th>\n",
       "      <th>5.0205548e-01</th>\n",
       "      <th>5.4216265e-01</th>\n",
       "      <th>7.2238348e-01</th>\n",
       "      <th>1.4288852e+00</th>\n",
       "      <th>2.1365158e+00</th>\n",
       "      <th>2.2811490e+00</th>\n",
       "      <th>1.9362737e+00</th>\n",
       "      <th>1.4688900e+00</th>\n",
       "      <th>1.0088451e+00</th>\n",
       "      <th>...</th>\n",
       "      <th>9.3104294e-01</th>\n",
       "      <th>6.1029836e-01</th>\n",
       "      <th>6.3889427e-01</th>\n",
       "      <th>6.8467857e-01</th>\n",
       "      <th>5.8323764e-01</th>\n",
       "      <th>6.4052167e-01</th>\n",
       "      <th>7.0858515e-01</th>\n",
       "      <th>7.0501088e-01</th>\n",
       "      <th>7.1381545e-01</th>\n",
       "      <th>4.3376464e-01</th>\n",
       "    </tr>\n",
       "  </thead>\n",
       "  <tbody>\n",
       "    <tr>\n",
       "      <th>0</th>\n",
       "      <td>0.606061</td>\n",
       "      <td>-0.562875</td>\n",
       "      <td>-0.626371</td>\n",
       "      <td>-1.684678</td>\n",
       "      <td>-1.889607</td>\n",
       "      <td>-1.519094</td>\n",
       "      <td>-1.021311</td>\n",
       "      <td>-0.169213</td>\n",
       "      <td>-1.069893</td>\n",
       "      <td>-1.976327</td>\n",
       "      <td>...</td>\n",
       "      <td>-0.716434</td>\n",
       "      <td>-0.570110</td>\n",
       "      <td>-0.024641</td>\n",
       "      <td>0.829306</td>\n",
       "      <td>2.027689</td>\n",
       "      <td>2.277342</td>\n",
       "      <td>1.349421</td>\n",
       "      <td>-0.241743</td>\n",
       "      <td>-1.442540</td>\n",
       "      <td>-0.380272</td>\n",
       "    </tr>\n",
       "    <tr>\n",
       "      <th>1</th>\n",
       "      <td>-1.393939</td>\n",
       "      <td>-0.393876</td>\n",
       "      <td>-1.187841</td>\n",
       "      <td>-1.681978</td>\n",
       "      <td>-1.069763</td>\n",
       "      <td>0.132479</td>\n",
       "      <td>1.012649</td>\n",
       "      <td>1.431773</td>\n",
       "      <td>1.289997</td>\n",
       "      <td>0.801638</td>\n",
       "      <td>...</td>\n",
       "      <td>0.581298</td>\n",
       "      <td>0.440740</td>\n",
       "      <td>0.352175</td>\n",
       "      <td>0.284324</td>\n",
       "      <td>0.193263</td>\n",
       "      <td>0.319521</td>\n",
       "      <td>0.425713</td>\n",
       "      <td>0.470248</td>\n",
       "      <td>0.640576</td>\n",
       "      <td>0.367099</td>\n",
       "    </tr>\n",
       "    <tr>\n",
       "      <th>2</th>\n",
       "      <td>-1.393939</td>\n",
       "      <td>0.458352</td>\n",
       "      <td>0.644861</td>\n",
       "      <td>-0.292309</td>\n",
       "      <td>-0.527055</td>\n",
       "      <td>0.403337</td>\n",
       "      <td>0.555934</td>\n",
       "      <td>0.193388</td>\n",
       "      <td>0.194250</td>\n",
       "      <td>0.485630</td>\n",
       "      <td>...</td>\n",
       "      <td>0.236076</td>\n",
       "      <td>0.554006</td>\n",
       "      <td>1.123222</td>\n",
       "      <td>1.854026</td>\n",
       "      <td>1.335857</td>\n",
       "      <td>1.012674</td>\n",
       "      <td>1.506879</td>\n",
       "      <td>0.978349</td>\n",
       "      <td>0.622941</td>\n",
       "      <td>0.559292</td>\n",
       "    </tr>\n",
       "    <tr>\n",
       "      <th>3</th>\n",
       "      <td>0.606061</td>\n",
       "      <td>-0.061865</td>\n",
       "      <td>-0.679014</td>\n",
       "      <td>0.583781</td>\n",
       "      <td>1.322214</td>\n",
       "      <td>0.572449</td>\n",
       "      <td>-0.226288</td>\n",
       "      <td>-0.454570</td>\n",
       "      <td>0.458656</td>\n",
       "      <td>0.567225</td>\n",
       "      <td>...</td>\n",
       "      <td>-0.280800</td>\n",
       "      <td>-0.306668</td>\n",
       "      <td>-0.540962</td>\n",
       "      <td>-0.371903</td>\n",
       "      <td>-0.491036</td>\n",
       "      <td>-0.650131</td>\n",
       "      <td>-0.691337</td>\n",
       "      <td>-0.733156</td>\n",
       "      <td>0.137124</td>\n",
       "      <td>0.409941</td>\n",
       "    </tr>\n",
       "    <tr>\n",
       "      <th>4</th>\n",
       "      <td>0.606061</td>\n",
       "      <td>-0.305790</td>\n",
       "      <td>-0.150181</td>\n",
       "      <td>0.462698</td>\n",
       "      <td>-0.833982</td>\n",
       "      <td>-0.092276</td>\n",
       "      <td>-0.272633</td>\n",
       "      <td>-1.662506</td>\n",
       "      <td>-0.969243</td>\n",
       "      <td>0.065395</td>\n",
       "      <td>...</td>\n",
       "      <td>0.193538</td>\n",
       "      <td>0.107930</td>\n",
       "      <td>0.024951</td>\n",
       "      <td>-0.123371</td>\n",
       "      <td>-0.002385</td>\n",
       "      <td>0.082468</td>\n",
       "      <td>-0.414424</td>\n",
       "      <td>-0.075124</td>\n",
       "      <td>0.169498</td>\n",
       "      <td>0.166937</td>\n",
       "    </tr>\n",
       "    <tr>\n",
       "      <th>...</th>\n",
       "      <td>...</td>\n",
       "      <td>...</td>\n",
       "      <td>...</td>\n",
       "      <td>...</td>\n",
       "      <td>...</td>\n",
       "      <td>...</td>\n",
       "      <td>...</td>\n",
       "      <td>...</td>\n",
       "      <td>...</td>\n",
       "      <td>...</td>\n",
       "      <td>...</td>\n",
       "      <td>...</td>\n",
       "      <td>...</td>\n",
       "      <td>...</td>\n",
       "      <td>...</td>\n",
       "      <td>...</td>\n",
       "      <td>...</td>\n",
       "      <td>...</td>\n",
       "      <td>...</td>\n",
       "      <td>...</td>\n",
       "      <td>...</td>\n",
       "    </tr>\n",
       "    <tr>\n",
       "      <th>94</th>\n",
       "      <td>0.606061</td>\n",
       "      <td>-0.129245</td>\n",
       "      <td>-0.554852</td>\n",
       "      <td>-1.009683</td>\n",
       "      <td>-0.337381</td>\n",
       "      <td>0.995691</td>\n",
       "      <td>1.499744</td>\n",
       "      <td>1.234443</td>\n",
       "      <td>0.709358</td>\n",
       "      <td>0.016122</td>\n",
       "      <td>...</td>\n",
       "      <td>0.819840</td>\n",
       "      <td>0.737987</td>\n",
       "      <td>0.715732</td>\n",
       "      <td>0.641513</td>\n",
       "      <td>0.356618</td>\n",
       "      <td>0.198677</td>\n",
       "      <td>0.375724</td>\n",
       "      <td>0.222773</td>\n",
       "      <td>-0.510802</td>\n",
       "      <td>-0.696794</td>\n",
       "    </tr>\n",
       "    <tr>\n",
       "      <th>95</th>\n",
       "      <td>-1.393939</td>\n",
       "      <td>1.978495</td>\n",
       "      <td>1.277664</td>\n",
       "      <td>-0.044068</td>\n",
       "      <td>0.102299</td>\n",
       "      <td>-0.028727</td>\n",
       "      <td>-0.716992</td>\n",
       "      <td>-0.827290</td>\n",
       "      <td>-1.115864</td>\n",
       "      <td>-1.345921</td>\n",
       "      <td>...</td>\n",
       "      <td>-0.319541</td>\n",
       "      <td>-0.242057</td>\n",
       "      <td>-0.283463</td>\n",
       "      <td>-0.420930</td>\n",
       "      <td>-0.531135</td>\n",
       "      <td>-0.546958</td>\n",
       "      <td>-0.629773</td>\n",
       "      <td>-0.398310</td>\n",
       "      <td>-0.053423</td>\n",
       "      <td>0.101215</td>\n",
       "    </tr>\n",
       "    <tr>\n",
       "      <th>96</th>\n",
       "      <td>-1.393939</td>\n",
       "      <td>-0.512845</td>\n",
       "      <td>-0.975623</td>\n",
       "      <td>-1.079340</td>\n",
       "      <td>-0.197545</td>\n",
       "      <td>0.713755</td>\n",
       "      <td>0.994432</td>\n",
       "      <td>0.892352</td>\n",
       "      <td>0.096079</td>\n",
       "      <td>-0.438155</td>\n",
       "      <td>...</td>\n",
       "      <td>0.299522</td>\n",
       "      <td>0.155688</td>\n",
       "      <td>0.047266</td>\n",
       "      <td>-0.098335</td>\n",
       "      <td>-0.360381</td>\n",
       "      <td>-0.215558</td>\n",
       "      <td>-0.055182</td>\n",
       "      <td>-0.398606</td>\n",
       "      <td>-0.135043</td>\n",
       "      <td>0.171045</td>\n",
       "    </tr>\n",
       "    <tr>\n",
       "      <th>97</th>\n",
       "      <td>0.606061</td>\n",
       "      <td>-0.531022</td>\n",
       "      <td>-0.392631</td>\n",
       "      <td>-0.106029</td>\n",
       "      <td>0.571640</td>\n",
       "      <td>0.124998</td>\n",
       "      <td>-0.848075</td>\n",
       "      <td>-1.844820</td>\n",
       "      <td>-1.073068</td>\n",
       "      <td>-0.191240</td>\n",
       "      <td>...</td>\n",
       "      <td>0.141393</td>\n",
       "      <td>0.160607</td>\n",
       "      <td>-0.088772</td>\n",
       "      <td>0.166486</td>\n",
       "      <td>0.156393</td>\n",
       "      <td>-0.320789</td>\n",
       "      <td>0.058135</td>\n",
       "      <td>-0.127550</td>\n",
       "      <td>0.015912</td>\n",
       "      <td>0.279461</td>\n",
       "    </tr>\n",
       "    <tr>\n",
       "      <th>98</th>\n",
       "      <td>0.606061</td>\n",
       "      <td>-0.637398</td>\n",
       "      <td>-0.654986</td>\n",
       "      <td>0.128886</td>\n",
       "      <td>1.306824</td>\n",
       "      <td>0.622767</td>\n",
       "      <td>-0.249593</td>\n",
       "      <td>-1.190228</td>\n",
       "      <td>-1.821389</td>\n",
       "      <td>-1.045878</td>\n",
       "      <td>...</td>\n",
       "      <td>-0.241866</td>\n",
       "      <td>-0.300519</td>\n",
       "      <td>-0.547960</td>\n",
       "      <td>-0.460395</td>\n",
       "      <td>-0.471071</td>\n",
       "      <td>-0.805180</td>\n",
       "      <td>-0.834076</td>\n",
       "      <td>-0.345289</td>\n",
       "      <td>-0.355914</td>\n",
       "      <td>-0.428300</td>\n",
       "    </tr>\n",
       "  </tbody>\n",
       "</table>\n",
       "<p>99 rows × 97 columns</p>\n",
       "</div>"
      ],
      "text/plain": [
       "    -1.0000000e+00   5.0205548e-01   5.4216265e-01   7.2238348e-01  \\\n",
       "0         0.606061       -0.562875       -0.626371       -1.684678   \n",
       "1        -1.393939       -0.393876       -1.187841       -1.681978   \n",
       "2        -1.393939        0.458352        0.644861       -0.292309   \n",
       "3         0.606061       -0.061865       -0.679014        0.583781   \n",
       "4         0.606061       -0.305790       -0.150181        0.462698   \n",
       "..             ...             ...             ...             ...   \n",
       "94        0.606061       -0.129245       -0.554852       -1.009683   \n",
       "95       -1.393939        1.978495        1.277664       -0.044068   \n",
       "96       -1.393939       -0.512845       -0.975623       -1.079340   \n",
       "97        0.606061       -0.531022       -0.392631       -0.106029   \n",
       "98        0.606061       -0.637398       -0.654986        0.128886   \n",
       "\n",
       "     1.4288852e+00   2.1365158e+00   2.2811490e+00   1.9362737e+00  \\\n",
       "0        -1.889607       -1.519094       -1.021311       -0.169213   \n",
       "1        -1.069763        0.132479        1.012649        1.431773   \n",
       "2        -0.527055        0.403337        0.555934        0.193388   \n",
       "3         1.322214        0.572449       -0.226288       -0.454570   \n",
       "4        -0.833982       -0.092276       -0.272633       -1.662506   \n",
       "..             ...             ...             ...             ...   \n",
       "94       -0.337381        0.995691        1.499744        1.234443   \n",
       "95        0.102299       -0.028727       -0.716992       -0.827290   \n",
       "96       -0.197545        0.713755        0.994432        0.892352   \n",
       "97        0.571640        0.124998       -0.848075       -1.844820   \n",
       "98        1.306824        0.622767       -0.249593       -1.190228   \n",
       "\n",
       "     1.4688900e+00   1.0088451e+00  ...   9.3104294e-01   6.1029836e-01  \\\n",
       "0        -1.069893       -1.976327  ...       -0.716434       -0.570110   \n",
       "1         1.289997        0.801638  ...        0.581298        0.440740   \n",
       "2         0.194250        0.485630  ...        0.236076        0.554006   \n",
       "3         0.458656        0.567225  ...       -0.280800       -0.306668   \n",
       "4        -0.969243        0.065395  ...        0.193538        0.107930   \n",
       "..             ...             ...  ...             ...             ...   \n",
       "94        0.709358        0.016122  ...        0.819840        0.737987   \n",
       "95       -1.115864       -1.345921  ...       -0.319541       -0.242057   \n",
       "96        0.096079       -0.438155  ...        0.299522        0.155688   \n",
       "97       -1.073068       -0.191240  ...        0.141393        0.160607   \n",
       "98       -1.821389       -1.045878  ...       -0.241866       -0.300519   \n",
       "\n",
       "     6.3889427e-01   6.8467857e-01   5.8323764e-01   6.4052167e-01  \\\n",
       "0        -0.024641        0.829306        2.027689        2.277342   \n",
       "1         0.352175        0.284324        0.193263        0.319521   \n",
       "2         1.123222        1.854026        1.335857        1.012674   \n",
       "3        -0.540962       -0.371903       -0.491036       -0.650131   \n",
       "4         0.024951       -0.123371       -0.002385        0.082468   \n",
       "..             ...             ...             ...             ...   \n",
       "94        0.715732        0.641513        0.356618        0.198677   \n",
       "95       -0.283463       -0.420930       -0.531135       -0.546958   \n",
       "96        0.047266       -0.098335       -0.360381       -0.215558   \n",
       "97       -0.088772        0.166486        0.156393       -0.320789   \n",
       "98       -0.547960       -0.460395       -0.471071       -0.805180   \n",
       "\n",
       "     7.0858515e-01   7.0501088e-01   7.1381545e-01   4.3376464e-01  \n",
       "0         1.349421       -0.241743       -1.442540       -0.380272  \n",
       "1         0.425713        0.470248        0.640576        0.367099  \n",
       "2         1.506879        0.978349        0.622941        0.559292  \n",
       "3        -0.691337       -0.733156        0.137124        0.409941  \n",
       "4        -0.414424       -0.075124        0.169498        0.166937  \n",
       "..             ...             ...             ...             ...  \n",
       "94        0.375724        0.222773       -0.510802       -0.696794  \n",
       "95       -0.629773       -0.398310       -0.053423        0.101215  \n",
       "96       -0.055182       -0.398606       -0.135043        0.171045  \n",
       "97        0.058135       -0.127550        0.015912        0.279461  \n",
       "98       -0.834076       -0.345289       -0.355914       -0.428300  \n",
       "\n",
       "[99 rows x 97 columns]"
      ]
     },
     "execution_count": 15,
     "metadata": {},
     "output_type": "execute_result"
    }
   ],
   "source": [
    "cv = df - df.mean()\n",
    "cv"
   ]
  },
  {
   "cell_type": "code",
   "execution_count": 16,
   "id": "fd1db01e",
   "metadata": {},
   "outputs": [],
   "source": [
    "import numpy as np\n",
    "import numpy.linalg as la"
   ]
  },
  {
   "cell_type": "code",
   "execution_count": 23,
   "id": "382e4004",
   "metadata": {},
   "outputs": [
    {
     "name": "stdout",
     "output_type": "stream",
     "text": [
      "150\n",
      "150 , 150\n"
     ]
    }
   ],
   "source": [
    "data=df2.to_numpy()\n",
    "eigen_values, eigen_vectors = la.eig(data)\n",
    "print(eigen_values)\n",
    "print(eigen_vectors)"
   ]
  },
  {
   "cell_type": "code",
   "execution_count": null,
   "id": "0ad34c04",
   "metadata": {},
   "outputs": [],
   "source": []
  }
 ],
 "metadata": {
  "kernelspec": {
   "display_name": "Python 3 (ipykernel)",
   "language": "python",
   "name": "python3"
  },
  "language_info": {
   "codemirror_mode": {
    "name": "ipython",
    "version": 3
   },
   "file_extension": ".py",
   "mimetype": "text/x-python",
   "name": "python",
   "nbconvert_exporter": "python",
   "pygments_lexer": "ipython3",
   "version": "3.9.12"
  }
 },
 "nbformat": 4,
 "nbformat_minor": 5
}
